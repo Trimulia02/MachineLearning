{
  "nbformat": 4,
  "nbformat_minor": 0,
  "metadata": {
    "colab": {
      "provenance": []
    },
    "kernelspec": {
      "name": "python3",
      "display_name": "Python 3"
    },
    "language_info": {
      "name": "python"
    }
  },
  "cells": [
    {
      "cell_type": "code",
      "execution_count": 39,
      "metadata": {
        "id": "Ccbye_9QRCrR"
      },
      "outputs": [],
      "source": [
        "# ==================================\n",
        "# AUTOMOBILE DATASET\n",
        "# ==================================\n",
        "import pandas as pd\n",
        "import numpy as np\n",
        "import matplotlib.pyplot as plt\n",
        "import seaborn as sns\n",
        "from sklearn.model_selection import train_test_split\n",
        "from sklearn.ensemble import GradientBoostingRegressor, RandomForestRegressor\n",
        "from sklearn.metrics import mean_squared_error, r2_score\n",
        "from sklearn.preprocessing import StandardScaler\n",
        "import matplotlib.pyplot as plt"
      ]
    },
    {
      "cell_type": "code",
      "source": [
        "# Load data\n",
        "url_auto = \"https://raw.githubusercontent.com/farrelrassya/teachingMLDL/refs/heads/main/01.%20Machine%20Learning/01.%20Week%201/Dataset/Automobile.csv\"\n",
        "data_auto = pd.read_csv(url_auto)"
      ],
      "metadata": {
        "id": "PaIFGNuDSV4o"
      },
      "execution_count": 18,
      "outputs": []
    },
    {
      "cell_type": "code",
      "source": [
        "# Handle missing values\n",
        "numeric_cols = data_auto.select_dtypes(include=['float64', 'int64']).columns\n",
        "categorical_cols = data_auto.select_dtypes(include=['object']).columns\n",
        "\n",
        "data_auto[numeric_cols] = data_auto[numeric_cols].fillna(data_auto[numeric_cols].mean())\n",
        "for col in categorical_cols:\n",
        "    data_auto[col] = data_auto[col].fillna(data_auto[col].mode()[0])"
      ],
      "metadata": {
        "id": "cj8uPGXRSZLp"
      },
      "execution_count": 20,
      "outputs": []
    },
    {
      "cell_type": "code",
      "source": [
        "# Features and target\n",
        "X_auto = data_auto.drop('price', axis=1)\n",
        "y_auto = data_auto['price']"
      ],
      "metadata": {
        "id": "9XCfKalrSb4k"
      },
      "execution_count": 21,
      "outputs": []
    },
    {
      "cell_type": "code",
      "source": [
        "# Only numeric features for modeling\n",
        "X_auto_numeric = X_auto.select_dtypes(include=[np.number])\n",
        "scaler = StandardScaler()\n",
        "X_auto_scaled = scaler.fit_transform(X_auto_numeric)"
      ],
      "metadata": {
        "id": "bQO7WxaDSgW5"
      },
      "execution_count": 23,
      "outputs": []
    },
    {
      "cell_type": "code",
      "source": [
        "# Split data\n",
        "X_train_auto, X_test_auto, y_train_auto, y_test_auto = train_test_split(X_auto_scaled, y_auto, test_size=0.2, random_state=42)"
      ],
      "metadata": {
        "id": "WwhZQ0p-SiTi"
      },
      "execution_count": 24,
      "outputs": []
    },
    {
      "cell_type": "code",
      "source": [
        "# Models\n",
        "boost_auto = GradientBoostingRegressor(random_state=42)\n",
        "boost_auto.fit(X_train_auto, y_train_auto)\n",
        "pred_boost_auto = boost_auto.predict(X_test_auto)\n",
        "\n",
        "bagging_auto = RandomForestRegressor(random_state=42)\n",
        "bagging_auto.fit(X_train_auto, y_train_auto)\n",
        "pred_bagging_auto = bagging_auto.predict(X_test_auto)"
      ],
      "metadata": {
        "id": "e8weG1gvSmFA"
      },
      "execution_count": 25,
      "outputs": []
    },
    {
      "cell_type": "code",
      "source": [
        "# Evaluation\n",
        "results_auto = {}\n",
        "for name, y_pred in zip(['Boosting', 'Bagging'], [pred_boost_auto, pred_bagging_auto]):\n",
        "    results_auto[name] = {\n",
        "        'MSE': mean_squared_error(y_test_auto, y_pred),\n",
        "        'RMSE': np.sqrt(mean_squared_error(y_test_auto, y_pred)),\n",
        "        'R2': r2_score(y_test_auto, y_pred)\n",
        "    }\n",
        "\n",
        "print(\"=== Evaluation on Automobile Dataset ===\")\n",
        "print(pd.DataFrame(results_auto).T)"
      ],
      "metadata": {
        "colab": {
          "base_uri": "https://localhost:8080/"
        },
        "id": "WomwRUSmSpJ2",
        "outputId": "1ddbca86-5d48-41dd-c8ef-a11462baee1e"
      },
      "execution_count": 26,
      "outputs": [
        {
          "output_type": "stream",
          "name": "stdout",
          "text": [
            "=== Evaluation on Automobile Dataset ===\n",
            "                   MSE         RMSE        R2\n",
            "Boosting  6.436836e+06  2537.092098  0.917447\n",
            "Bagging   4.811550e+06  2193.524500  0.938291\n"
          ]
        }
      ]
    },
    {
      "cell_type": "code",
      "source": [
        "# Visualization\n",
        "labels = ['Boosting', 'Bagging']\n",
        "rmse_values = [results_auto['Boosting']['RMSE'], results_auto['Bagging']['RMSE']]\n",
        "r2_values = [results_auto['Boosting']['R2'], results_auto['Bagging']['R2']]\n",
        "\n",
        "plt.figure(figsize=(12, 4))\n",
        "plt.subplot(1, 2, 1)\n",
        "plt.bar(labels, rmse_values, color=['skyblue', 'lightgreen'])\n",
        "plt.title('RMSE - Automobile')\n",
        "plt.ylabel('RMSE')\n",
        "\n",
        "plt.subplot(1, 2, 2)\n",
        "plt.bar(labels, r2_values, color=['skyblue', 'lightgreen'])\n",
        "plt.title('R2 Score - Automobile')\n",
        "plt.ylabel('R2')\n",
        "plt.tight_layout()\n",
        "plt.show()"
      ],
      "metadata": {
        "colab": {
          "base_uri": "https://localhost:8080/",
          "height": 407
        },
        "id": "fYFKJBh0VRY9",
        "outputId": "2b4efbc2-abfb-4354-eebd-92aef90e433a"
      },
      "execution_count": 41,
      "outputs": [
        {
          "output_type": "display_data",
          "data": {
            "text/plain": [
              "<Figure size 1200x400 with 2 Axes>"
            ],
            "image/png": "[encoded data removed]"
          },
          "metadata": {}
        }
      ]
    },
    {
      "cell_type": "code",
      "source": [
        "# ==================================\n",
        "# BOSTON HOUSING DATASET\n",
        "# ==================================\n",
        "# Load data\n",
        "url_boston = \"https://raw.githubusercontent.com/selva86/datasets/master/BostonHousing.csv\"\n",
        "data_boston = pd.read_csv(url_boston)\n",
        "\n",
        "X_boston = data_boston.drop('medv', axis=1)\n",
        "y_boston = data_boston['medv']\n",
        "X_train_boston, X_test_boston, y_train_boston, y_test_boston = train_test_split(X_boston, y_boston, test_size=0.2, random_state=42)"
      ],
      "metadata": {
        "id": "xymfwPn-Svyc"
      },
      "execution_count": 27,
      "outputs": []
    },
    {
      "cell_type": "code",
      "source": [
        "# Models\n",
        "boost_boston = GradientBoostingRegressor(n_estimators=100, random_state=42)\n",
        "boost_boston.fit(X_train_boston, y_train_boston)\n",
        "pred_boost_boston = boost_boston.predict(X_test_boston)\n",
        "\n",
        "bagging_boston = RandomForestRegressor(n_estimators=100, random_state=42)\n",
        "bagging_boston.fit(X_train_boston, y_train_boston)\n",
        "pred_bagging_boston = bagging_boston.predict(X_test_boston)"
      ],
      "metadata": {
        "id": "xRm0wT_mSzZc"
      },
      "execution_count": 28,
      "outputs": []
    },
    {
      "cell_type": "code",
      "source": [
        "# Evaluation\n",
        "results_boston = {}\n",
        "for name, y_pred in zip(['Boosting', 'Bagging'], [pred_boost_boston, pred_bagging_boston]):\n",
        "    results_boston[name] = {\n",
        "        'MSE': mean_squared_error(y_test_boston, y_pred),\n",
        "        'RMSE': np.sqrt(mean_squared_error(y_test_boston, y_pred)),\n",
        "        'R2': r2_score(y_test_boston, y_pred)\n",
        "    }\n",
        "\n",
        "print(\"\\n=== Evaluation on Boston Housing Dataset ===\")\n",
        "print(pd.DataFrame(results_boston).T)"
      ],
      "metadata": {
        "colab": {
          "base_uri": "https://localhost:8080/"
        },
        "id": "0vYdMZsDS2qu",
        "outputId": "82269035-319c-472a-cef0-4fbf0ac4fb34"
      },
      "execution_count": 29,
      "outputs": [
        {
          "output_type": "stream",
          "name": "stdout",
          "text": [
            "\n",
            "=== Evaluation on Boston Housing Dataset ===\n",
            "               MSE      RMSE        R2\n",
            "Boosting  6.208861  2.491759  0.915334\n",
            "Bagging   7.901514  2.810963  0.892253\n"
          ]
        }
      ]
    },
    {
      "cell_type": "code",
      "source": [
        "# Visualization\n",
        "rmse_values = [results_boston['Boosting']['RMSE'], results_boston['Bagging']['RMSE']]\n",
        "r2_values = [results_boston['Boosting']['R2'], results_boston['Bagging']['R2']]\n",
        "\n",
        "plt.figure(figsize=(12, 4))\n",
        "plt.subplot(1, 2, 1)\n",
        "plt.bar(labels, rmse_values, color=['steelblue', 'lightcoral'])\n",
        "plt.title('RMSE - Boston Housing')\n",
        "plt.ylabel('RMSE')\n",
        "\n",
        "plt.subplot(1, 2, 2)\n",
        "plt.bar(labels, r2_values, color=['steelblue', 'lightcoral'])\n",
        "plt.title('R2 Score - Boston Housing')\n",
        "plt.ylabel('R2')\n",
        "plt.tight_layout()\n",
        "plt.show()"
      ],
      "metadata": {
        "colab": {
          "base_uri": "https://localhost:8080/",
          "height": 407
        },
        "id": "Ga45VPYFVVRq",
        "outputId": "448a927d-79ff-4bb6-f5a4-917c031d10e8"
      },
      "execution_count": 42,
      "outputs": [
        {
          "output_type": "display_data",
          "data": {
            "text/plain": [
              "<Figure size 1200x400 with 2 Axes>"
            ],
            "image/png": "[encoded data removed]"
          },
          "metadata": {}
        }
      ]
    },
    {
      "cell_type": "code",
      "source": [
        "# ==================================\n",
        "# INFRARED DATASET\n",
        "# ==================================\n",
        "# Load data\n",
        "url_infrared = \"https://raw.githubusercontent.com/farrelrassya/teachingMLDL/refs/heads/main/02.%20Deep%20Learning/Dataset/Infrared.csv\"\n",
        "data_infrared = pd.read_csv(url_infrared)"
      ],
      "metadata": {
        "id": "acvLXuDtS5qT"
      },
      "execution_count": 33,
      "outputs": []
    },
    {
      "cell_type": "code",
      "source": [
        "# Cleaning\n",
        "numeric_cols_infrared = data_infrared.select_dtypes(include=['float64', 'int64']).columns\n",
        "data_infrared[numeric_cols_infrared] = data_infrared[numeric_cols_infrared].apply(pd.to_numeric, errors='coerce')\n",
        "data_infrared_cleaned = data_infrared[numeric_cols_infrared].fillna(data_infrared[numeric_cols_infrared].mean())\n",
        "\n",
        "X_infrared = data_infrared_cleaned.drop(data_infrared_cleaned.columns[-1], axis=1)\n",
        "y_infrared = data_infrared_cleaned.iloc[:, -1]\n",
        "X_train_infrared, X_test_infrared, y_train_infrared, y_test_infrared = train_test_split(X_infrared, y_infrared, test_size=0.2, random_state=42)"
      ],
      "metadata": {
        "id": "Aqre5Hu0S76i"
      },
      "execution_count": 35,
      "outputs": []
    },
    {
      "cell_type": "code",
      "source": [
        "# Cleaning\n",
        "numeric_cols_infrared = data_infrared.select_dtypes(include=['float64', 'int64']).columns\n",
        "data_infrared[numeric_cols_infrared] = data_infrared[numeric_cols_infrared].apply(pd.to_numeric, errors='coerce')\n",
        "data_infrared_cleaned = data_infrared[numeric_cols_infrared].fillna(data_infrared[numeric_cols_infrared].mean())\n",
        "\n",
        "X_infrared = data_infrared_cleaned.drop(data_infrared_cleaned.columns[-1], axis=1)\n",
        "y_infrared = data_infrared_cleaned.iloc[:, -1]\n",
        "X_train_infrared, X_test_infrared, y_train_infrared, y_test_infrared = train_test_split(X_infrared, y_infrared, test_size=0.2, random_state=42)"
      ],
      "metadata": {
        "id": "zUiJGAwVTomi"
      },
      "execution_count": 36,
      "outputs": []
    },
    {
      "cell_type": "code",
      "source": [
        "# Models\n",
        "boost_infrared = GradientBoostingRegressor(n_estimators=100, random_state=42)\n",
        "boost_infrared.fit(X_train_infrared, y_train_infrared)\n",
        "pred_boost_infrared = boost_infrared.predict(X_test_infrared)\n",
        "\n",
        "bagging_infrared = RandomForestRegressor(n_estimators=100, random_state=42)\n",
        "bagging_infrared.fit(X_train_infrared, y_train_infrared)\n",
        "pred_bagging_infrared = bagging_infrared.predict(X_test_infrared)"
      ],
      "metadata": {
        "id": "i_77lXkHTtCo"
      },
      "execution_count": 37,
      "outputs": []
    },
    {
      "cell_type": "code",
      "source": [
        "# Evaluation\n",
        "results_infrared = {}\n",
        "for name, y_pred in zip(['Boosting', 'Bagging'], [pred_boost_infrared, pred_bagging_infrared]):\n",
        "    results_infrared[name] = {\n",
        "        'MSE': mean_squared_error(y_test_infrared, y_pred),\n",
        "        'RMSE': np.sqrt(mean_squared_error(y_test_infrared, y_pred)),\n",
        "        'R2': r2_score(y_test_infrared, y_pred)\n",
        "    }\n",
        "\n",
        "print(\"\\n=== Evaluation on Infrared Dataset ===\")\n",
        "print(pd.DataFrame(results_infrared).T)"
      ],
      "metadata": {
        "colab": {
          "base_uri": "https://localhost:8080/"
        },
        "id": "uyV7NKwUTuZh",
        "outputId": "97939610-b02d-4113-e355-7ac866d214ca"
      },
      "execution_count": 38,
      "outputs": [
        {
          "output_type": "stream",
          "name": "stdout",
          "text": [
            "\n",
            "=== Evaluation on Infrared Dataset ===\n",
            "               MSE      RMSE        R2\n",
            "Boosting  0.052210  0.228494  0.752058\n",
            "Bagging   0.058098  0.241035  0.724095\n"
          ]
        }
      ]
    },
    {
      "cell_type": "code",
      "source": [
        "# Visualization\n",
        "rmse_values = [results_infrared['Boosting']['RMSE'], results_infrared['Bagging']['RMSE']]\n",
        "r2_values = [results_infrared['Boosting']['R2'], results_infrared['Bagging']['R2']]\n",
        "\n",
        "plt.figure(figsize=(12, 4))\n",
        "plt.subplot(1, 2, 1)\n",
        "plt.bar(labels, rmse_values, color=['orange', 'teal'])\n",
        "plt.title('RMSE - Infrared')\n",
        "plt.ylabel('RMSE')\n",
        "\n",
        "plt.subplot(1, 2, 2)\n",
        "plt.bar(labels, r2_values, color=['orange', 'teal'])\n",
        "plt.title('R2 Score - Infrared')\n",
        "plt.ylabel('R2')\n",
        "plt.tight_layout()\n",
        "plt.show()"
      ],
      "metadata": {
        "colab": {
          "base_uri": "https://localhost:8080/",
          "height": 407
        },
        "id": "a9HeVTmPVZBU",
        "outputId": "c09d77a1-900c-486e-c58d-2e644241aa06"
      },
      "execution_count": 43,
      "outputs": [
        {
          "output_type": "display_data",
          "data": {
            "text/plain": [
              "<Figure size 1200x400 with 2 Axes>"
            ],
            "image/png": "[encoded data removed]"
          },
          "metadata": {}
        }
      ]
    },
    {
      "cell_type": "markdown",
      "source": [
        "#  Evaluasi Model Regressi – Penjelasan Matematis\n",
        "\n",
        "## 1. **Mean Squared Error (MSE)**\n",
        "\n",
        "### Rumus:\n",
        "$$\n",
        "\\text{MSE} = \\frac{1}{n} \\sum_{i=1}^{n} (y_i - \\\\hat{y}_i)^2\n",
        "$$\n",
        "\n",
        "### Keterangan:\n",
        "- $y_i$: nilai aktual ke-$i$\n",
        "- $\\\\hat{y}_i$: nilai prediksi ke-$i$\n",
        "- $n$: jumlah total data\n",
        "- $(y_i - \\\\hat{y}_i)^2$: kuadrat dari selisih antara nilai aktual dan prediksi\n",
        "\n",
        "> **Tujuan**: Mengukur seberapa besar rata-rata kesalahan kuadrat.  \n",
        "> Nilai **MSE yang lebih kecil** berarti model memiliki performa yang lebih baik.\n",
        "\n",
        "---\n",
        "\n",
        "## 2. **Root Mean Squared Error (RMSE)**\n",
        "\n",
        "### Rumus:\n",
        "$$\n",
        "\\text{RMSE} = \\sqrt{\\text{MSE}} = \\sqrt{\\\\frac{1}{n} \\sum_{i=1}^{n} (y_i - \\\\hat{y}_i)^2}\n",
        "$$\n",
        "\n",
        "### Keterangan:\n",
        "- RMSE adalah akar dari MSE\n",
        "- Karena MSE dalam satuan kuadrat, RMSE mengembalikannya ke satuan asli target\n",
        "\n",
        "> **Tujuan**: Menginterpretasikan kesalahan dalam satuan asli target (misalnya: harga dalam \\$).  \n",
        "> RMSE lebih intuitif untuk dipahami daripada MSE.\n",
        "\n",
        "---\n",
        "\n",
        "## 3. **R-Squared (R²) – Koefisien Determinasi**\n",
        "\n",
        "### Rumus:\n",
        "$$\n",
        "R^2 = 1 - \\\\frac{\\sum_{i=1}^{n} (y_i - \\\\hat{y}_i)^2}{\\sum_{i=1}^{n} (y_i - \\\\bar{y})^2}\n",
        "$$\n",
        "\n",
        "### Keterangan:\n",
        "- $y_i$: nilai aktual ke-$i$\n",
        "- $\\\\hat{y}_i$: nilai prediksi ke-$i$\n",
        "- $\\\\bar{y}$: rata-rata dari nilai aktual\n",
        "- Pembilang = jumlah kesalahan model  \n",
        "- Penyebut = total variasi dalam data aktual\n",
        "\n",
        "> **Tujuan**: Mengukur seberapa besar proporsi variasi dalam data target yang bisa dijelaskan oleh model.  \n",
        "> Nilai R² berada dalam rentang $(-\\infty, 1]$  \n",
        "> - $R^2 = 1$: model sempurna  \n",
        "> - $R^2 = 0$: model tidak lebih baik dari rata-rata  \n",
        "> - $R^2 < 0$: model lebih buruk dari prediksi rata-rata\n"
      ],
      "metadata": {
        "id": "24VH_n04Vk6A"
      }
    }
  ]
}